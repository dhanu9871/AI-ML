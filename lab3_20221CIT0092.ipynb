{
  "nbformat": 4,
  "nbformat_minor": 0,
  "metadata": {
    "colab": {
      "provenance": [],
      "authorship_tag": "ABX9TyPX+4zfvThpDEYqqhoP1N4t",
      "include_colab_link": true
    },
    "kernelspec": {
      "name": "python3",
      "display_name": "Python 3"
    },
    "language_info": {
      "name": "python"
    }
  },
  "cells": [
    {
      "cell_type": "markdown",
      "metadata": {
        "id": "view-in-github",
        "colab_type": "text"
      },
      "source": [
        "<a href=\"https://colab.research.google.com/github/dhanu9871/AI-ML/blob/main/lab3_20221CIT0092.ipynb\" target=\"_parent\"><img src=\"https://colab.research.google.com/assets/colab-badge.svg\" alt=\"Open In Colab\"/></a>"
      ]
    },
    {
      "cell_type": "code",
      "source": [
        "class NexonXXVI:\n",
        "  def __init__(self,price=1400000,color='White'):\n",
        "      self.power=5.5\n",
        "      self.price=price\n",
        "      self.color=color\n",
        "  def road_price(self):\n",
        "      return int(self.price*1.1)\n",
        "c1 = NexonXXVI(price=1600000,color='Blue')\n",
        "c2 = NexonXXVI()\n",
        "print(c1.power,\"\\t\",c1.price,\"\\t\",c1.color,\"\\t\",c1.road_price())\n",
        "print(c2.power,\"\\t\",c2.price,\"\\t\",c2.color,\"\\t\",c2.road_price())\n"
      ],
      "metadata": {
        "colab": {
          "base_uri": "https://localhost:8080/"
        },
        "id": "NBJaDYunio9P",
        "outputId": "f7b41545-2119-493f-dc0c-b8fb50caf8a8"
      },
      "execution_count": null,
      "outputs": [
        {
          "output_type": "stream",
          "name": "stdout",
          "text": [
            "5.5 \t 1600000 \t Blue \t 1760000\n",
            "5.5 \t 1400000 \t White \t 1540000\n"
          ]
        }
      ]
    },
    {
      "cell_type": "code",
      "source": [
        "def my_function():\n",
        "    local_var = \"I am local\"\n",
        "    print(local_var)"
      ],
      "metadata": {
        "id": "Sa8g1yLGldo-"
      },
      "execution_count": null,
      "outputs": []
    },
    {
      "cell_type": "code",
      "source": [
        "class BankAccount:\n",
        "  def __init__(self,accno):\n",
        "    self.accno=accno\n",
        "    self.balance=0\n",
        "  def deposit(self,amount):\n",
        "    self.balance+=amount\n",
        "  def withdraw(self,amount):\n",
        "    self.balance-=amount\n",
        "  def get_balance(self):\n",
        "    return self.balance\n",
        "     print(\" \")"
      ],
      "metadata": {
        "id": "mWC4g1dyobNk"
      },
      "execution_count": null,
      "outputs": []
    }
  ]
}